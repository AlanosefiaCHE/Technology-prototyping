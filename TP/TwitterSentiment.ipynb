{
 "cells": [
  {
   "cell_type": "code",
   "execution_count": 6,
   "id": "2d10ba89-042f-4012-968d-033045c1f882",
   "metadata": {},
   "outputs": [
    {
     "name": "stdout",
     "output_type": "stream",
     "text": [
      "Hello world\n"
     ]
    }
   ],
   "source": [
    "print(\"Hello world\")"
   ]
  },
  {
   "cell_type": "code",
   "execution_count": 20,
   "id": "746fa77f-13fc-48f4-b581-ccdb814e144a",
   "metadata": {},
   "outputs": [
    {
     "name": "stdout",
     "output_type": "stream",
     "text": [
      "Elon Musk Last 8 Tweets\n",
      "Tweet 1\n",
      "Gezouten boter is geweldig, maar moet bij kamertemperatuur worden bewaard https://t.co/8RSr340JB8 \n",
      "\n",
      "Tweet 2\n",
      "@corey_aronson @CathieDWood Daling 0,25% \n",
      "\n",
      "Tweet 3\n",
      "@CathieDWood Precies, dit is niet subtiel of geheim \n",
      "\n",
      "Tweet 4\n",
      "@WholeMarsBlog Lagen op lagen van neurale netwerken, steeds hoger \n",
      "\n",
      "Tweet 5\n",
      "https://t.co/xMoL9wdXh6 \n",
      "\n",
      "Tweet 6\n",
      "@HuobiGlobal Subtiel \n",
      "\n",
      "Tweet 7\n",
      "@HuobiGlobal \n",
      "\n",
      "Tweet 8\n",
      "Let op, we werken eraan om het fluitje veel luider te laten klinken \n",
      "\n"
     ]
    }
   ],
   "source": [
    "import tweepy\n",
    "from deep_translator import GoogleTranslator\n",
    "\n",
    "token = \"\"\n",
    "client = tweepy.Client(bearer_token=token)\n",
    "\n",
    "# User Id from twitter profile\n",
    "userid = \"44196397\"\n",
    "paginator = tweepy.Paginator(client.get_users_tweets, id=userid, max_results=8)\n",
    "\n",
    "print(\"Elon Musk Last 8 Tweets\")\n",
    "count = 1\n",
    "while count <= 8 :\n",
    "    for tweet in paginator.flatten(limit=8):\n",
    "        translated = GoogleTranslator(source='auto', target='nl').translate(str(tweet))\n",
    "        \n",
    "        print(\"Tweet\", count)\n",
    "        print(translated, \"\\n\")\n",
    "\n",
    "        count = count + 1\n",
    "\n"
   ]
  }
 ],
 "metadata": {
  "kernelspec": {
   "display_name": "Python 3.10.7 64-bit (system)",
   "language": "python",
   "name": "python3"
  },
  "language_info": {
   "codemirror_mode": {
    "name": "ipython",
    "version": 3
   },
   "file_extension": ".py",
   "mimetype": "text/x-python",
   "name": "python",
   "nbconvert_exporter": "python",
   "pygments_lexer": "ipython3",
   "version": "3.10.7"
  },
  "vscode": {
   "interpreter": {
    "hash": "087a8efd7e62adbcfffa2e00642ecaacf7574b4f75bc039a62bab8974bcb453f"
   }
  }
 },
 "nbformat": 4,
 "nbformat_minor": 5
}
