{
 "cells": [
  {
   "cell_type": "code",
   "execution_count": 1,
   "id": "2d10ba89-042f-4012-968d-033045c1f882",
   "metadata": {},
   "outputs": [
    {
     "name": "stdout",
     "output_type": "stream",
     "text": [
      "Hello world\n"
     ]
    }
   ],
   "source": [
    "print(\"Hello world\")"
   ]
  },
  {
   "cell_type": "code",
   "execution_count": 1,
   "id": "746fa77f-13fc-48f4-b581-ccdb814e144a",
   "metadata": {},
   "outputs": [
    {
     "name": "stdout",
     "output_type": "stream",
     "text": [
      "Met een slag op de gong start de CHE vandaag het collegejaar 2022/2023! Aangevuurd door de keynote van oud-minister @arieslob, die de CHE en haar partners aanvuurde de aanstormende #GeneratieZ te omarmen én te gidsen bij hun start op de arbeidsmarkt: Happy new year! https://t.co/8GtSTVpozn\n",
      "Vandaag congres 'Hart voor de zaak - geloven in je werk', resultaat van een vierjarig gezamenlijk onderzoek door de Christelijke Hogeschool Ede, Lelie Zorggroep en Woord en Daad. \n",
      "\n",
      "Resultaten zijn samengevat in een prachtig publieksmagazine: https://t.co/HREQicb2D3 https://t.co/g9TTOTkh9Z\n",
      "Ben je een ervaren adviseur online communicatie &amp; marketing? Dan heeft de CHE een leuke uitdagende baan voor je! https://t.co/OXtQcir7pa\n",
      "Aankomend weekend vind je de CHE op Pinksterconferentie Opwekking. Onze studenten en docenten staan met een leuke stand op de Mission Plaza. Kom je ook langs?\n",
      " \n",
      "Op de foto? 📸\n",
      "In onze stand staan we met een leuke photobooth. Mis ons niet! En kom langs voor een leuke herinnering https://t.co/spTYWjVuS4\n",
      "Wil jij vooral leren in de praktijk van het basisonderwijs? Maak kennis met de Praktijkpabo, een variant van de voltijdopleiding Leraar Basisonderwijs.\n",
      "\n",
      "Wees welkom op de Open Avonden op basisscholen in Capelle a/d IJssel, Woerden en Zierikzee. \n",
      "\n",
      "https://t.co/xnSgSuijBK https://t.co/w8aD25vdbk\n",
      "CHE-collega Clemens van den Berg spreekt in de 92e aflevering van De Ongelooflijke Podcast over de verrassende oorsprong van onze Europese waarden; wat zijn de theologische en historische wortels van waarden als solidariteit en verzoening?   \n",
      "\n",
      "https://t.co/x6iAUDLTuf\n",
      "De Christelijke Hogeschool Ede (CHE) organiseert op woensdag 1 juni a.s. van 18.30 – 21.00 uur een laatste Open Avond voor de voltijdopleidingen voor de zomervakantie. Welkom!\n",
      "https://t.co/QRw9XxvKw3 https://t.co/DVydtlY7JT\n",
      "De CHE pleit voor een snellere herinvoering van de basisbeurs en een hogere compensatie voor de pechgeneratie. Geef ook je mening over de wet herinvoering basisbeurs hoger onderwijs: https://t.co/mjpPv5dW0u. https://t.co/yNLFwTWg9x\n"
     ]
    }
   ],
   "source": [
    "import tweepy\n",
    "\n",
    "token = \"\" #bearer token, toegang als developer\n",
    "client = tweepy.Client(bearer_token=token)\n",
    "\n",
    "userid = \"7174972\" #twitter id, converter\n",
    "paginator = tweepy.Paginator(client.get_users_tweets, id=userid, max_results=8) #https://docs.tweepy.org/en/stable/client.html\n",
    "\n",
    "for tweet in paginator.flatten(limit=8): #Acht resultaten\n",
    "    print(tweet)\n"
   ]
  }
 ],
 "metadata": {
  "interpreter": {
   "hash": "d1fb4e250a02a4895fc08f543045f362e877bb7902819151f7af41847f1d603f"
  },
  "kernelspec": {
   "display_name": "Python 3.10.7 64-bit (system)",
   "language": "python",
   "name": "python3"
  },
  "language_info": {
   "codemirror_mode": {
    "name": "ipython",
    "version": 3
   },
   "file_extension": ".py",
   "mimetype": "text/x-python",
   "name": "python",
   "nbconvert_exporter": "python",
   "pygments_lexer": "ipython3",
   "version": "3.10.7"
  }
 },
 "nbformat": 4,
 "nbformat_minor": 5
}
