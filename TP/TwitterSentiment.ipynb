{
 "cells": [
  {
   "cell_type": "code",
   "execution_count": 1,
   "id": "2d10ba89-042f-4012-968d-033045c1f882",
   "metadata": {},
   "outputs": [
    {
     "name": "stdout",
     "output_type": "stream",
     "text": [
      "Hello world\n"
     ]
    }
   ],
   "source": [
    "print(\"Hello world\")"
   ]
  },
  {
   "cell_type": "code",
   "execution_count": 24,
   "id": "746fa77f-13fc-48f4-b581-ccdb814e144a",
   "metadata": {},
   "outputs": [
    {
     "name": "stdout",
     "output_type": "stream",
     "text": [
      "Últimos tweets de NOS:\n",
      "Chinese embassy in The Hague defaced with red paint during demonstration https://t.co/kgN1kiwiDQ\n",
      "Chinese ambassade Den Haag bij betoging beklad met rode verf https://t.co/kgN1kiwiDQ \n",
      "\n",
      "Freight train with many cars on fire at Etten-Leur https://t.co/DTHKubnnQ9\n",
      "Goederentrein met veel auto's in brand bij Etten-Leur https://t.co/DTHKubnnQ9 \n",
      "\n",
      "Defeat for online supers: staff should get weekend allowance https://t.co/vRtPVxCyox\n",
      "Nederlaag voor online supers: personeel moet weekendtoeslag krijgen https://t.co/vRtPVxCyox \n",
      "\n",
      "Woman raids Beirut bank to withdraw savings for sick sister https://t.co/5qldx5RxAa\n",
      "Vrouw valt bank in Beiroet binnen om spaargeld voor zieke zus op te nemen https://t.co/5qldx5RxAa \n",
      "\n",
      "Cardiologists get millions of euros from medical companies without permission https://t.co/KI9z8j8YUO\n",
      "Cardiologen krijgen zonder toestemming miljoenen euro's van medische bedrijven https://t.co/KI9z8j8YUO \n",
      "\n",
      "'Jumbo CEO Van Eerd fixed as a suspect in money laundering' https://t.co/tHt1bCmKJT\n",
      "'Jumbo-topman Van Eerd vast als verdachte in witwaszaak' https://t.co/tHt1bCmKJT \n",
      "\n",
      "London prepares to bid farewell to Queen Elizabeth https://t.co/5rxhMwQ6va\n",
      "Londen bereidt zich voor op afscheid van koningin Elizabeth https://t.co/5rxhMwQ6va \n",
      "\n",
      "Donny M. confesses kidnapping, abusing and killing 9-year-old Gino during emotional hearing https://t.co/Ctef8OQgGL\n",
      "Donny M. bekent tijdens emotionele zitting ontvoeren, misbruiken en doden van 9-jarige Gino https://t.co/Ctef8OQgGL \n",
      "\n"
     ]
    }
   ],
   "source": [
    "import tweepy\n",
    "from deep_translator import GoogleTranslator\n",
    "token = \"\" #bearer token, toegang als developer\n",
    "client = tweepy.Client(bearer_token=token)\n",
    "\n",
    "userid = \"7174972\" #twitter id, converter\n",
    "paginator = tweepy.Paginator(client.get_users_tweets, id=userid, max_results=8) #https://docs.tweepy.org/en/stable/client.html\n",
    "translated = GoogleTranslator(source='auto', target='es').translate(text=\"Laatste tweets van de NOS:\")\n",
    "print(translated)\n",
    "\n",
    "for tweet in paginator.flatten(limit=8): #Acht resultaten\n",
    "    #tweet casten naar een string\n",
    "    translateTweets = GoogleTranslator(source='auto', target='en').translate(str(tweet))\n",
    "    print(translateTweets)\n",
    "    print(tweet, \"\\n\")\n"
   ]
  }
 ],
 "metadata": {
  "interpreter": {
   "hash": "d1fb4e250a02a4895fc08f543045f362e877bb7902819151f7af41847f1d603f"
  },
  "kernelspec": {
   "display_name": "Python 3.10.7 64-bit (system)",
   "language": "python",
   "name": "python3"
  },
  "language_info": {
   "codemirror_mode": {
    "name": "ipython",
    "version": 3
   },
   "file_extension": ".py",
   "mimetype": "text/x-python",
   "name": "python",
   "nbconvert_exporter": "python",
   "pygments_lexer": "ipython3",
   "version": "3.10.7"
  }
 },
 "nbformat": 4,
 "nbformat_minor": 5
}
