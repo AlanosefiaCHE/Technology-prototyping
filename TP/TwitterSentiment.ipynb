{
 "cells": [
  {
   "cell_type": "code",
   "execution_count": 1,
   "id": "2d10ba89-042f-4012-968d-033045c1f882",
   "metadata": {},
   "outputs": [
    {
     "name": "stdout",
     "output_type": "stream",
     "text": [
      "Hello world\n"
     ]
    }
   ],
   "source": [
    "print(\"Hello world\")"
   ]
  },
  {
   "cell_type": "code",
   "execution_count": 15,
   "id": "746fa77f-13fc-48f4-b581-ccdb814e144a",
   "metadata": {},
   "outputs": [
    {
     "ename": "Unauthorized",
     "evalue": "401 Unauthorized\nUnauthorized",
     "output_type": "error",
     "traceback": [
      "\u001b[1;31m---------------------------------------------------------------------------\u001b[0m",
      "\u001b[1;31mUnauthorized\u001b[0m                              Traceback (most recent call last)",
      "Cell \u001b[1;32mIn [15], line 9\u001b[0m\n\u001b[0;32m      6\u001b[0m userid \u001b[38;5;241m=\u001b[39m \u001b[38;5;124m\"\u001b[39m\u001b[38;5;124m7174972\u001b[39m\u001b[38;5;124m\"\u001b[39m \u001b[38;5;66;03m#twitter id, converter\u001b[39;00m\n\u001b[0;32m      7\u001b[0m paginator \u001b[38;5;241m=\u001b[39m tweepy\u001b[38;5;241m.\u001b[39mPaginator(client\u001b[38;5;241m.\u001b[39mget_users_tweets, \u001b[38;5;28mid\u001b[39m\u001b[38;5;241m=\u001b[39muserid, max_results\u001b[38;5;241m=\u001b[39m\u001b[38;5;241m8\u001b[39m) \u001b[38;5;66;03m#https://docs.tweepy.org/en/stable/client.html\u001b[39;00m\n\u001b[1;32m----> 9\u001b[0m \u001b[38;5;28;01mfor\u001b[39;00m tweet \u001b[38;5;129;01min\u001b[39;00m paginator\u001b[38;5;241m.\u001b[39mflatten(limit\u001b[38;5;241m=\u001b[39m\u001b[38;5;241m8\u001b[39m): \u001b[38;5;66;03m#Acht resultaten\u001b[39;00m\n\u001b[0;32m     10\u001b[0m     \u001b[38;5;28mprint\u001b[39m(tweet)\n",
      "File \u001b[1;32m~\\AppData\\Local\\Packages\\PythonSoftwareFoundation.Python.3.10_qbz5n2kfra8p0\\LocalCache\\local-packages\\Python310\\site-packages\\tweepy\\pagination.py:48\u001b[0m, in \u001b[0;36mPaginator.flatten\u001b[1;34m(self, limit)\u001b[0m\n\u001b[0;32m     45\u001b[0m     \u001b[39mreturn\u001b[39;00m\n\u001b[0;32m     47\u001b[0m count \u001b[39m=\u001b[39m \u001b[39m0\u001b[39m\n\u001b[1;32m---> 48\u001b[0m \u001b[39mfor\u001b[39;00m response \u001b[39min\u001b[39;00m PaginationIterator(\u001b[39mself\u001b[39m\u001b[39m.\u001b[39mmethod, \u001b[39m*\u001b[39m\u001b[39mself\u001b[39m\u001b[39m.\u001b[39margs,\n\u001b[0;32m     49\u001b[0m                                    \u001b[39m*\u001b[39m\u001b[39m*\u001b[39m\u001b[39mself\u001b[39m\u001b[39m.\u001b[39mkwargs):\n\u001b[0;32m     50\u001b[0m     \u001b[39mif\u001b[39;00m response\u001b[39m.\u001b[39mdata \u001b[39mis\u001b[39;00m \u001b[39mnot\u001b[39;00m \u001b[39mNone\u001b[39;00m:\n\u001b[0;32m     51\u001b[0m         \u001b[39mfor\u001b[39;00m data \u001b[39min\u001b[39;00m response\u001b[39m.\u001b[39mdata:\n",
      "File \u001b[1;32m~\\AppData\\Local\\Packages\\PythonSoftwareFoundation.Python.3.10_qbz5n2kfra8p0\\LocalCache\\local-packages\\Python310\\site-packages\\tweepy\\pagination.py:98\u001b[0m, in \u001b[0;36mPaginationIterator.__next__\u001b[1;34m(self)\u001b[0m\n\u001b[0;32m     95\u001b[0m \u001b[39melse\u001b[39;00m:\n\u001b[0;32m     96\u001b[0m     \u001b[39mself\u001b[39m\u001b[39m.\u001b[39mkwargs[\u001b[39m\"\u001b[39m\u001b[39mpagination_token\u001b[39m\u001b[39m\"\u001b[39m] \u001b[39m=\u001b[39m pagination_token\n\u001b[1;32m---> 98\u001b[0m response \u001b[39m=\u001b[39m \u001b[39mself\u001b[39m\u001b[39m.\u001b[39mmethod(\u001b[39m*\u001b[39m\u001b[39mself\u001b[39m\u001b[39m.\u001b[39margs, \u001b[39m*\u001b[39m\u001b[39m*\u001b[39m\u001b[39mself\u001b[39m\u001b[39m.\u001b[39mkwargs)\n\u001b[0;32m    100\u001b[0m \u001b[39mself\u001b[39m\u001b[39m.\u001b[39mprevious_token \u001b[39m=\u001b[39m response\u001b[39m.\u001b[39mmeta\u001b[39m.\u001b[39mget(\u001b[39m\"\u001b[39m\u001b[39mprevious_token\u001b[39m\u001b[39m\"\u001b[39m)\n\u001b[0;32m    101\u001b[0m \u001b[39mself\u001b[39m\u001b[39m.\u001b[39mnext_token \u001b[39m=\u001b[39m response\u001b[39m.\u001b[39mmeta\u001b[39m.\u001b[39mget(\u001b[39m\"\u001b[39m\u001b[39mnext_token\u001b[39m\u001b[39m\"\u001b[39m)\n",
      "File \u001b[1;32m~\\AppData\\Local\\Packages\\PythonSoftwareFoundation.Python.3.10_qbz5n2kfra8p0\\LocalCache\\local-packages\\Python310\\site-packages\\tweepy\\client.py:1565\u001b[0m, in \u001b[0;36mClient.get_users_tweets\u001b[1;34m(self, id, user_auth, **params)\u001b[0m\n\u001b[0;32m   1465\u001b[0m \u001b[39mdef\u001b[39;00m \u001b[39mget_users_tweets\u001b[39m(\u001b[39mself\u001b[39m, \u001b[39mid\u001b[39m, \u001b[39m*\u001b[39m, user_auth\u001b[39m=\u001b[39m\u001b[39mFalse\u001b[39;00m, \u001b[39m*\u001b[39m\u001b[39m*\u001b[39mparams):\n\u001b[0;32m   1466\u001b[0m     \u001b[39m\"\"\"get_users_tweets( \\\u001b[39;00m\n\u001b[0;32m   1467\u001b[0m \u001b[39m        id, *, end_time=None, exclude=None, expansions=None, \\\u001b[39;00m\n\u001b[0;32m   1468\u001b[0m \u001b[39m        max_results=None, media_fields=None, pagination_token=None, \\\u001b[39;00m\n\u001b[1;32m   (...)\u001b[0m\n\u001b[0;32m   1563\u001b[0m \u001b[39m    .. _here: https://developer.twitter.com/en/docs/twitter-ids\u001b[39;00m\n\u001b[0;32m   1564\u001b[0m \u001b[39m    \"\"\"\u001b[39;00m\n\u001b[1;32m-> 1565\u001b[0m     \u001b[39mreturn\u001b[39;00m \u001b[39mself\u001b[39;49m\u001b[39m.\u001b[39;49m_make_request(\n\u001b[0;32m   1566\u001b[0m         \u001b[39m\"\u001b[39;49m\u001b[39mGET\u001b[39;49m\u001b[39m\"\u001b[39;49m, \u001b[39mf\u001b[39;49m\u001b[39m\"\u001b[39;49m\u001b[39m/2/users/\u001b[39;49m\u001b[39m{\u001b[39;49;00m\u001b[39mid\u001b[39;49m\u001b[39m}\u001b[39;49;00m\u001b[39m/tweets\u001b[39;49m\u001b[39m\"\u001b[39;49m, params\u001b[39m=\u001b[39;49mparams,\n\u001b[0;32m   1567\u001b[0m         endpoint_parameters\u001b[39m=\u001b[39;49m(\n\u001b[0;32m   1568\u001b[0m             \u001b[39m\"\u001b[39;49m\u001b[39mend_time\u001b[39;49m\u001b[39m\"\u001b[39;49m, \u001b[39m\"\u001b[39;49m\u001b[39mexclude\u001b[39;49m\u001b[39m\"\u001b[39;49m, \u001b[39m\"\u001b[39;49m\u001b[39mexpansions\u001b[39;49m\u001b[39m\"\u001b[39;49m, \u001b[39m\"\u001b[39;49m\u001b[39mmax_results\u001b[39;49m\u001b[39m\"\u001b[39;49m,\n\u001b[0;32m   1569\u001b[0m             \u001b[39m\"\u001b[39;49m\u001b[39mmedia.fields\u001b[39;49m\u001b[39m\"\u001b[39;49m, \u001b[39m\"\u001b[39;49m\u001b[39mpagination_token\u001b[39;49m\u001b[39m\"\u001b[39;49m, \u001b[39m\"\u001b[39;49m\u001b[39mplace.fields\u001b[39;49m\u001b[39m\"\u001b[39;49m,\n\u001b[0;32m   1570\u001b[0m             \u001b[39m\"\u001b[39;49m\u001b[39mpoll.fields\u001b[39;49m\u001b[39m\"\u001b[39;49m, \u001b[39m\"\u001b[39;49m\u001b[39msince_id\u001b[39;49m\u001b[39m\"\u001b[39;49m, \u001b[39m\"\u001b[39;49m\u001b[39mstart_time\u001b[39;49m\u001b[39m\"\u001b[39;49m, \u001b[39m\"\u001b[39;49m\u001b[39mtweet.fields\u001b[39;49m\u001b[39m\"\u001b[39;49m,\n\u001b[0;32m   1571\u001b[0m             \u001b[39m\"\u001b[39;49m\u001b[39muntil_id\u001b[39;49m\u001b[39m\"\u001b[39;49m, \u001b[39m\"\u001b[39;49m\u001b[39muser.fields\u001b[39;49m\u001b[39m\"\u001b[39;49m\n\u001b[0;32m   1572\u001b[0m         ), data_type\u001b[39m=\u001b[39;49mTweet, user_auth\u001b[39m=\u001b[39;49muser_auth\n\u001b[0;32m   1573\u001b[0m     )\n",
      "File \u001b[1;32m~\\AppData\\Local\\Packages\\PythonSoftwareFoundation.Python.3.10_qbz5n2kfra8p0\\LocalCache\\local-packages\\Python310\\site-packages\\tweepy\\client.py:126\u001b[0m, in \u001b[0;36mBaseClient._make_request\u001b[1;34m(self, method, route, params, endpoint_parameters, json, data_type, user_auth)\u001b[0m\n\u001b[0;32m    122\u001b[0m \u001b[39mdef\u001b[39;00m \u001b[39m_make_request\u001b[39m(\u001b[39mself\u001b[39m, method, route, params\u001b[39m=\u001b[39m{}, endpoint_parameters\u001b[39m=\u001b[39m\u001b[39mNone\u001b[39;00m,\n\u001b[0;32m    123\u001b[0m                   json\u001b[39m=\u001b[39m\u001b[39mNone\u001b[39;00m, data_type\u001b[39m=\u001b[39m\u001b[39mNone\u001b[39;00m, user_auth\u001b[39m=\u001b[39m\u001b[39mFalse\u001b[39;00m):\n\u001b[0;32m    124\u001b[0m     request_params \u001b[39m=\u001b[39m \u001b[39mself\u001b[39m\u001b[39m.\u001b[39m_process_params(params, endpoint_parameters)\n\u001b[1;32m--> 126\u001b[0m     response \u001b[39m=\u001b[39m \u001b[39mself\u001b[39;49m\u001b[39m.\u001b[39;49mrequest(method, route, params\u001b[39m=\u001b[39;49mrequest_params,\n\u001b[0;32m    127\u001b[0m                             json\u001b[39m=\u001b[39;49mjson, user_auth\u001b[39m=\u001b[39;49muser_auth)\n\u001b[0;32m    129\u001b[0m     \u001b[39mif\u001b[39;00m \u001b[39mself\u001b[39m\u001b[39m.\u001b[39mreturn_type \u001b[39mis\u001b[39;00m requests\u001b[39m.\u001b[39mResponse:\n\u001b[0;32m    130\u001b[0m         \u001b[39mreturn\u001b[39;00m response\n",
      "File \u001b[1;32m~\\AppData\\Local\\Packages\\PythonSoftwareFoundation.Python.3.10_qbz5n2kfra8p0\\LocalCache\\local-packages\\Python310\\site-packages\\tweepy\\client.py:97\u001b[0m, in \u001b[0;36mBaseClient.request\u001b[1;34m(self, method, route, params, json, user_auth)\u001b[0m\n\u001b[0;32m     95\u001b[0m     \u001b[39mraise\u001b[39;00m BadRequest(response)\n\u001b[0;32m     96\u001b[0m \u001b[39mif\u001b[39;00m response\u001b[39m.\u001b[39mstatus_code \u001b[39m==\u001b[39m \u001b[39m401\u001b[39m:\n\u001b[1;32m---> 97\u001b[0m     \u001b[39mraise\u001b[39;00m Unauthorized(response)\n\u001b[0;32m     98\u001b[0m \u001b[39mif\u001b[39;00m response\u001b[39m.\u001b[39mstatus_code \u001b[39m==\u001b[39m \u001b[39m403\u001b[39m:\n\u001b[0;32m     99\u001b[0m     \u001b[39mraise\u001b[39;00m Forbidden(response)\n",
      "\u001b[1;31mUnauthorized\u001b[0m: 401 Unauthorized\nUnauthorized"
     ]
    }
   ],
   "source": [
    "import tweepy\n",
    "\n",
    "token = \"\" #bearer token, toegang als developer\n",
    "client = tweepy.Client(bearer_token=token)\n",
    "\n",
    "userid = \"7174972\" #twitter id, converter\n",
    "paginator = tweepy.Paginator(client.get_users_tweets, id=userid, max_results=8) #https://docs.tweepy.org/en/stable/client.html\n",
    "\n",
    "for tweet in paginator.flatten(limit=8): #Acht resultaten\n",
    "    print(tweet)\n"
   ]
  }
 ],
 "metadata": {
  "interpreter": {
   "hash": "d1fb4e250a02a4895fc08f543045f362e877bb7902819151f7af41847f1d603f"
  },
  "kernelspec": {
   "display_name": "Python 3.10.7 64-bit (system)",
   "language": "python",
   "name": "python3"
  },
  "language_info": {
   "codemirror_mode": {
    "name": "ipython",
    "version": 3
   },
   "file_extension": ".py",
   "mimetype": "text/x-python",
   "name": "python",
   "nbconvert_exporter": "python",
   "pygments_lexer": "ipython3",
   "version": "3.10.7"
  }
 },
 "nbformat": 4,
 "nbformat_minor": 5
}
