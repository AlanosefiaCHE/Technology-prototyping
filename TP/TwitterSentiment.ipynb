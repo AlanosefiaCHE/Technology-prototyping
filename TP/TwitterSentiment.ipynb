{
 "cells": [
  {
   "cell_type": "code",
   "execution_count": 5,
   "id": "746fa77f-13fc-48f4-b581-ccdb814e144a",
   "metadata": {},
   "outputs": [
    {
     "name": "stdout",
     "output_type": "stream",
     "text": [
      "RT @djeppink: Deze week mijn interview in ⁦@ewmagazinenl⁩. De Tweede Kamer: beter minder boosheid theater, en meer realistische oplossingen…\n",
      "Lees hier het hele interview met @DJEppink: \n",
      "https://t.co/t6B3WFcgkZ (2/2)\n",
      "\"Op televisie lijkt het of iedereen hier de hele tijd boos is. Dat heb ik niet. Ik ben niet boos en leg veel goede contacten. Ik drink koffie met de heer Wilders en de heer Kuzu, en iedereen die daartussen zit.\" \n",
      "\n",
      "Lang interview in @EWmagazinenl met @DJEppink. \n",
      "#Leestip (1/2) https://t.co/h2mKT4UKqh\n",
      "RT @djeppink: In marge Oekraïne oorlog, laait ander conflict op. Azerbeidzjan lanceert aanval op Armenië. Is een kwalijke zaak. Azeri bewin…\n",
      "RT @MPHoogeveen: De renteverhoging van de #ECB is too little, too late. Het gericht opkopen van staatsschulden gaat door. We zitten in een…\n",
      "Dit kabinet wil de nieuwe #pensioenwet met spoed doordrukkken, terwijl er nog vele zorgen en vragen zijn. #JA21 vindt dat het beste #pensioenstelsel ter wereld alleen mag worden herzien, als het alternatief beter is. Daarvan zijn wij nu niet overtuigd. @NickiVerweij gisteravond: https://t.co/k67Pg8Lj0p\n",
      "JA21 hecht aan een zorgvuldige behandeling van de pensioenwet. Het kabinet lijkt nu in zeven sloten tegelijk te lopen, terwijl er aan alle kanten zorgen en vragen zijn. @NickiVerweij vraagt aan @Marijke_vB (D66) of we niet beter tijd kunnen nemen om te bezinnen. https://t.co/9Kj6ljxdpH\n",
      "De oplossing van de asielcrisis zit bij de instroom. Nederland heeft nu een asielstop nodig. Driekwart van de kiezers is dit met #JA21 eens. Van de VVD hoeven we op dit punt helaas niets te verwachten. \n",
      "\n",
      "Joost @Eerdmans was vanochtend te gast bij #wnlopzondag. https://t.co/hu15aFZFEd\n",
      "De middenklasse heeft het zwaar en mag niet buiten de boot vallen. #JA21 wil de klimaatmiljarden besteden aan koopkrachtreparaties en tijdelijk de BTW naar 0%. De overheid mag niet verdienen aan deze koopkrachtcrisis! https://t.co/QpC68MLpCg\n",
      "RT @djeppink: Denemarken en Rwanda tekenden vorige week een akkoord om asielverzoeken aan Denemarken in Rwanda af te handelen. Een legale m…\n"
     ]
    }
   ],
   "source": [
    "import tweepy\n",
    "\n",
    "\n",
    "# Put your unique token from twitter\n",
    "token = \"%\"\n",
    "\n",
    "client = tweepy.Client(bearer_token=token)\n",
    "\n",
    "\n",
    "# User Id from twitter profile\n",
    "userid = \"1339518164410003457\"\n",
    "# This is a get for the tweets from userid\n",
    "tweets = client.get_users_tweets(id=userid)\n",
    "maxResult = 10\n",
    "\n",
    "paginator = tweepy.Paginator(client.get_users_tweets, id=userid, max_results=maxResult)\n",
    "\n",
    "#flatten is needed to loop trough the paginator\n",
    "for tweet in paginator.flatten(limit=maxResult):\n",
    "\n",
    "    print(tweet)"
   ]
  },
  {
   "cell_type": "code",
   "execution_count": 8,
   "id": "d547195f",
   "metadata": {},
   "outputs": [
    {
     "name": "stdout",
     "output_type": "stream",
     "text": [
      "This is a test to see if this string is correctly translated into English\n"
     ]
    }
   ],
   "source": [
    "from deep_translator import GoogleTranslator\n",
    "\n",
    "text = \"Dit is een test om te kijken of deze string juist vertaald wordt naar het engels\"\n",
    "\n",
    "translated = GoogleTranslator(source='auto', target='english').translate(text=text)\n",
    "\n",
    "print(translated)"
   ]
  },
  {
   "cell_type": "code",
   "execution_count": 22,
   "metadata": {},
   "outputs": [
    {
     "name": "stdout",
     "output_type": "stream",
     "text": [
      "RT @Rob_Roos: The #energy bill is going upside down. But the European Parliament is raising the requirements for renewable energy even further.\n",
      "\n",
      "Va…\n",
      "Johan van Oldenbarnevelt was born 475 years ago today. The first Grand Pensionary of the United Netherlands. During the 80-year war he played a decisive role in the development of our country. In 1619 he was sentenced to death on dubious grounds. https://t.co/VS7xWFMPTH\n",
      "RT @djeppink: This week my interview in @ewmagazinenl. The House of Representatives: better less anger theater, and more realistic solutions…\n",
      "Read the full interview with @DJEppink here:\n",
      "https://t.co/t6B3WFcgkZ (2/2)\n",
      "\"On television it seems that everyone here is angry all the time. I don't have that. I am not angry and make many good contacts. I drink coffee with Mr. Wilders and Mr. Kuzu, and everyone in between.\"\n",
      "\n",
      "Long interview in @EWmagazinenl with @DJEppink.\n",
      "#Reading tip (1/2) https://t.co/h2mKT4UKqh\n",
      "RT @djeppink: In the margins of Ukraine war, another conflict flares up. Azerbaijan launches attack on Armenia. It's a bad thing. Azeri conquer…\n",
      "RT @MPHoogeveen: The #ECB rate hike is too little, too late. The targeted purchase of government debt continues. We are in a…\n",
      "This cabinet wants to urgently push through the new pension law, while there are still many concerns and questions. #JA21 believes that the best #pension system in the world should only be revised if the alternative is better. We are not convinced of that now. @NickiVerweij last night: https://t.co/k67Pg8Lj0p\n",
      "JA21 attaches great importance to careful treatment of the pension law. The cabinet now seems to be walking in seven ditches at once, while there are concerns and questions on all sides. @NickiVerweij asks @Marijke_vB (D66) if we shouldn't take time to reflect. https://t.co/9Kj6ljxdpH\n",
      "The solution to the asylum crisis lies with the influx. The Netherlands now needs an asylum stop. Three quarters of voters agree with #JA21. Unfortunately, we should not expect anything from the VVD on this point.\n",
      "\n",
      "Joost @Eerdmans was a guest at #wnlopzondag this morning. https://t.co/hu15aFZFEd\n"
     ]
    }
   ],
   "source": [
    "import tweepy\n",
    "from deep_translator import GoogleTranslator\n",
    "\n",
    "# Put your unique token from twitter\n",
    "token = \"%\"\n",
    "\n",
    "client = tweepy.Client(bearer_token=token)\n",
    "\n",
    "\n",
    "# User Id from twitter profile\n",
    "userid = \"1339518164410003457\"\n",
    "# This is a get for the tweets from userid\n",
    "tweets = client.get_users_tweets(id=userid)\n",
    "maxResult = 10\n",
    "\n",
    "paginator = tweepy.Paginator(client.get_users_tweets, id=userid, max_results=maxResult)\n",
    "\n",
    "\n",
    "#flatten is needed to loop trough the paginator\n",
    "for tweet in paginator.flatten(limit=maxResult):\n",
    "\n",
    "    EngTweet =  GoogleTranslator(source='auto', target='en').translate(str(tweet))\n",
    "    print(EngTweet)"
   ]
  }
 ],
 "metadata": {
  "interpreter": {
   "hash": "d1fb4e250a02a4895fc08f543045f362e877bb7902819151f7af41847f1d603f"
  },
  "kernelspec": {
   "display_name": "Python 3.10.7 64-bit (system)",
   "language": "python",
   "name": "python3"
  },
  "language_info": {
   "codemirror_mode": {
    "name": "ipython",
    "version": 3
   },
   "file_extension": ".py",
   "mimetype": "text/x-python",
   "name": "python",
   "nbconvert_exporter": "python",
   "pygments_lexer": "ipython3",
   "version": "3.10.7"
  }
 },
 "nbformat": 4,
 "nbformat_minor": 5
}
