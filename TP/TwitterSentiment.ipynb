{
 "cells": [
  {
   "cell_type": "code",
   "execution_count": 5,
   "id": "746fa77f-13fc-48f4-b581-ccdb814e144a",
   "metadata": {},
   "outputs": [
    {
     "name": "stdout",
     "output_type": "stream",
     "text": [
      "RT @djeppink: Deze week mijn interview in ⁦@ewmagazinenl⁩. De Tweede Kamer: beter minder boosheid theater, en meer realistische oplossingen…\n",
      "Lees hier het hele interview met @DJEppink: \n",
      "https://t.co/t6B3WFcgkZ (2/2)\n",
      "\"Op televisie lijkt het of iedereen hier de hele tijd boos is. Dat heb ik niet. Ik ben niet boos en leg veel goede contacten. Ik drink koffie met de heer Wilders en de heer Kuzu, en iedereen die daartussen zit.\" \n",
      "\n",
      "Lang interview in @EWmagazinenl met @DJEppink. \n",
      "#Leestip (1/2) https://t.co/h2mKT4UKqh\n",
      "RT @djeppink: In marge Oekraïne oorlog, laait ander conflict op. Azerbeidzjan lanceert aanval op Armenië. Is een kwalijke zaak. Azeri bewin…\n",
      "RT @MPHoogeveen: De renteverhoging van de #ECB is too little, too late. Het gericht opkopen van staatsschulden gaat door. We zitten in een…\n",
      "Dit kabinet wil de nieuwe #pensioenwet met spoed doordrukkken, terwijl er nog vele zorgen en vragen zijn. #JA21 vindt dat het beste #pensioenstelsel ter wereld alleen mag worden herzien, als het alternatief beter is. Daarvan zijn wij nu niet overtuigd. @NickiVerweij gisteravond: https://t.co/k67Pg8Lj0p\n",
      "JA21 hecht aan een zorgvuldige behandeling van de pensioenwet. Het kabinet lijkt nu in zeven sloten tegelijk te lopen, terwijl er aan alle kanten zorgen en vragen zijn. @NickiVerweij vraagt aan @Marijke_vB (D66) of we niet beter tijd kunnen nemen om te bezinnen. https://t.co/9Kj6ljxdpH\n",
      "De oplossing van de asielcrisis zit bij de instroom. Nederland heeft nu een asielstop nodig. Driekwart van de kiezers is dit met #JA21 eens. Van de VVD hoeven we op dit punt helaas niets te verwachten. \n",
      "\n",
      "Joost @Eerdmans was vanochtend te gast bij #wnlopzondag. https://t.co/hu15aFZFEd\n",
      "De middenklasse heeft het zwaar en mag niet buiten de boot vallen. #JA21 wil de klimaatmiljarden besteden aan koopkrachtreparaties en tijdelijk de BTW naar 0%. De overheid mag niet verdienen aan deze koopkrachtcrisis! https://t.co/QpC68MLpCg\n",
      "RT @djeppink: Denemarken en Rwanda tekenden vorige week een akkoord om asielverzoeken aan Denemarken in Rwanda af te handelen. Een legale m…\n"
     ]
    }
   ],
   "source": [
    "import tweepy\n",
    "\n",
    "\n",
    "# Put your unique token from twitter\n",
    "token = \"AAAAAAAAAAAAAAAAAAAAACRHhAEAAAAABCEus62dFo1plpi5zCURvv2hKow%3DR0CR1hFimLkwaFYm4Y8CdPSDQyv1lwtvZlLl9fnSF5mcl5pMWh\"\n",
    "\n",
    "client = tweepy.Client(bearer_token=token)\n",
    "\n",
    "\n",
    "# User Id from twitter profile\n",
    "userid = \"1339518164410003457\"\n",
    "# This is a get for the tweets from userid\n",
    "tweets = client.get_users_tweets(id=userid)\n",
    "maxResult = 10\n",
    "\n",
    "paginator = tweepy.Paginator(client.get_users_tweets, id=userid, max_results=maxResult)\n",
    "\n",
    "#flatten is needed to loop trough the paginator\n",
    "for tweet in paginator.flatten(limit=maxResult):\n",
    "\n",
    "    print(tweet)"
   ]
  },
  {
   "cell_type": "code",
   "execution_count": null,
   "id": "d547195f",
   "metadata": {},
   "outputs": [],
   "source": [
    "import tweepy\n",
    "\n",
    "from deep_translator import (GoogleTranslator,\n",
    "                             MicrosoftTranslator,\n",
    "                             PonsTranslator,\n",
    "                             LingueeTranslator,\n",
    "                             MyMemoryTranslator,\n",
    "                             YandexTranslator,\n",
    "                             PapagoTranslator,\n",
    "                             DeepL,\n",
    "                             QCRI,\n",
    "                             single_detection,\n",
    "                             batch_detection)\n",
    "\n",
    "\n",
    "# Put your unique token from twitter\n",
    "token = \"%\"\n",
    "\n",
    "client = tweepy.Client(bearer_token=token)\n",
    "\n",
    "\n",
    "# User Id from twitter profile\n",
    "userid = \"1339518164410003457\"\n",
    "# This is a get for the tweets from userid\n",
    "tweets = client.get_users_tweets(id=userid)\n",
    "maxResult = 10\n",
    "\n",
    "paginator = tweepy.Paginator(client.get_users_tweets, id=userid, max_results=maxResult)\n",
    "\n",
    "#flatten is needed to loop trough the paginator\n",
    "for tweet in paginator.flatten(limit=maxResult):\n",
    "\n",
    "    print(tweet)\n"
   ]
  }
 ],
 "metadata": {
  "interpreter": {
   "hash": "d1fb4e250a02a4895fc08f543045f362e877bb7902819151f7af41847f1d603f"
  },
  "kernelspec": {
   "display_name": "Python 3.10.7 64-bit (system)",
   "language": "python",
   "name": "python3"
  },
  "language_info": {
   "codemirror_mode": {
    "name": "ipython",
    "version": 3
   },
   "file_extension": ".py",
   "mimetype": "text/x-python",
   "name": "python",
   "nbconvert_exporter": "python",
   "pygments_lexer": "ipython3",
   "version": "3.10.7"
  }
 },
 "nbformat": 4,
 "nbformat_minor": 5
}
